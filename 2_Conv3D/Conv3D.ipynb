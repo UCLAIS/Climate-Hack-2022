{
 "cells": [
  {
   "cell_type": "markdown",
   "id": "3907428b-5edb-472b-a29b-f7facb915cfb",
   "metadata": {
    "id": "3907428b-5edb-472b-a29b-f7facb915cfb"
   },
   "source": [
    "# 2. Conv3D\n",
    "\n",
    "![conv3d](https://miro.medium.com/max/1400/0*J4N59yfFVKY5K8fa.png)\n",
    "\n",
    "In the second sample submission, we will look at how we can use a simple implementation of Conv3D to increase the prediction accuracy of the initial example model. To keep things simple, we are going to use the same 'infrastracture' as in the initial climate-hack submission folder and instead, we are going to implement a few changes in the ```model.py``` script.\n",
    "\n",
    "## Theory\n",
    "\n",
    "Fundamentally, 3D CNN is quite similar to the regular, 2D CNN expect a few differences.\n",
    "\n",
    "The original 2D CNN performs its multiplication between the input and the filters using 2D matrices. In 3D CNN, we simply perform these operations on multiple pairs of 2D matrices.\n",
    "\n",
    "The second difference appears in the **MaxPooling** layer. In the regular 2D CNN we were taking applying a small 2x2 filter to reduce our initial input. Consequently, in 3D CNN, we are going to apply 2x2x2 cube to the cube input (in such example case, 4x4x4).\n",
    "\n",
    "The reason why 3D CNN can be applied to our problem is that the additional dimension allows to take into the spatiotemporal differences in our dataset. In simple terms, 3D CNN allows us to consider the x and y changes **in addition to** time."
   ]
  },
  {
   "cell_type": "markdown",
   "id": "642c976a",
   "metadata": {},
   "source": [
    "### Importing modules"
   ]
  },
  {
   "cell_type": "code",
   "execution_count": null,
   "id": "ccebc6d1",
   "metadata": {},
   "outputs": [],
   "source": [
    "import matplotlib.pyplot as plt\n",
    "import torch\n",
    "import torch.nn as nn\n",
    "import torch.optim as optim\n",
    "import xarray as xr\n",
    "from numpy import float32\n",
    "from torch.utils.data import DataLoader\n",
    "\n",
    "from dataset import ClimateHackDataset\n",
    "from loss import MS_SSIMLoss\n",
    "from submission.model import Model\n",
    "\n",
    "plt.rcParams[\"figure.figsize\"] = (20, 12)"
   ]
  },
  {
   "cell_type": "markdown",
   "id": "c5bf592d",
   "metadata": {},
   "source": [
    "### Loading the dataset\n",
    "\n",
    "The 108GB HRV (\"high resolution visible\") satellite imagery dataset may be loaded directly from Google Cloud Public Datasets using `xarray`, `zarr`, `gcsfs` and `dask`. Alternatively a local copy can be downloaded and loaded instead for better performance. The pixel values represent calibrated top-of-atmosphere bidirectional irradiance values mapped to the range `[0, 1023]`. Read more about the data on the [Google Cloud Platform](https://console.cloud.google.com/marketplace/product/bigquery-public-data/eumetsat-seviri-rss-hrv-uk).\n",
    "\n",
    "Since the dataset is so large, we have provided a `ClimateHackDataset` class in `dataset.py` that selects a sliding window of twelve 128x128 images (taken five minutes apart, corresponding to an hour of data) for randomly sampled areas roughly over the mainland UK to use in training."
   ]
  },
  {
   "cell_type": "code",
   "execution_count": null,
   "id": "830e5ace-8a6c-402d-95e8-0ea1d68222b2",
   "metadata": {
    "id": "830e5ace-8a6c-402d-95e8-0ea1d68222b2"
   },
   "outputs": [],
   "source": [
    "SATELLITE_ZARR_PATH = \"gs://public-datasets-eumetsat-solar-forecasting/satellite/EUMETSAT/SEVIRI_RSS/v3/eumetsat_seviri_hrv_uk.zarr\"\n",
    "\n",
    "dataset = xr.open_dataset(\n",
    "    SATELLITE_ZARR_PATH, \n",
    "    engine=\"zarr\",\n",
    "    chunks=\"auto\",  # Load the data as a Dask array\n",
    ")\n",
    "\n",
    "\n",
    "BATCH_SIZE = 8\n",
    "EPOCHS = 10\n",
    "\n",
    "ch_dataset = ClimateHackDataset(dataset, crops_per_slice=1, day_limit=7)\n",
    "ch_dataloader = DataLoader(ch_dataset, batch_size=BATCH_SIZE)"
   ]
  },
  {
   "cell_type": "markdown",
   "id": "45e017e9",
   "metadata": {},
   "source": [
    "### Creating model\n",
    "\n",
    "Any models you define need to be in the `submission` folder so that they can be evaluated on DOXA. By default, they are defined in `submission/model.py`, which is where this PyTorch model is defined.\n",
    "\n",
    "There are some huge improvements you can make to this basic model, so feel free to use this as a starting point and customise `submission/model.py` to your liking!"
   ]
  },
  {
   "cell_type": "code",
   "execution_count": null,
   "id": "1759751d",
   "metadata": {},
   "outputs": [],
   "source": [
    "model = Model()\n",
    "optimiser = optim.Adam(model.parameters(), lr=1e-4)\n",
    "criterion = MS_SSIMLoss(channels=24)"
   ]
  },
  {
   "cell_type": "markdown",
   "id": "c62ee67f",
   "metadata": {},
   "source": [
    "### Training the model"
   ]
  },
  {
   "cell_type": "code",
   "execution_count": null,
   "id": "2b522d66",
   "metadata": {},
   "outputs": [],
   "source": [
    "losses = []\n",
    "for epoch in range(EPOCHS):\n",
    "    print(f\"Epoch {epoch + 1}\")\n",
    "    running_loss = 0\n",
    "    i = 0\n",
    "    count = 0\n",
    "    for batch_coordinates, batch_features, batch_targets in ch_dataloader:\n",
    "        optimiser.zero_grad()\n",
    "        batch_predictions = model(batch_features)\n",
    "\n",
    "        batch_loss = criterion(batch_predictions.unsqueeze(dim=2), batch_targets.unsqueeze(dim=2))\n",
    "        batch_loss.backward()\n",
    "\n",
    "        optimiser.step()\n",
    "\n",
    "        running_loss += batch_loss.item() * batch_predictions.shape[0]\n",
    "        count += batch_predictions.shape[0]\n",
    "        i += 1\n",
    "\n",
    "        print(f\"Completed batch {i} of epoch {epoch + 1} with loss {batch_loss.item()} -- processed {count} image sequences ({12 * count} images)\")\n",
    "    \n",
    "    losses.append(running_loss / count)\n",
    "    print(f\"Loss for epoch {epoch + 1}/{EPOCHS}: {losses[-1]}\")"
   ]
  },
  {
   "cell_type": "markdown",
   "id": "82e36642",
   "metadata": {},
   "source": [
    "### Visualising the loss"
   ]
  },
  {
   "cell_type": "code",
   "execution_count": null,
   "id": "73277fa4",
   "metadata": {},
   "outputs": [],
   "source": [
    "plt.plot(range(EPOCHS), losses)\n",
    "plt.xlabel(\"Epoch\")\n",
    "plt.ylabel(\"Loss\")"
   ]
  },
  {
   "cell_type": "markdown",
   "id": "af0555a3",
   "metadata": {},
   "source": [
    "### Visualising its predictions\n",
    "\n",
    "Having trained the model, it is often useful to visualise some of its predictions to ensure it is producing a sensible output."
   ]
  },
  {
   "cell_type": "code",
   "execution_count": null,
   "id": "16ccd168",
   "metadata": {},
   "outputs": [],
   "source": [
    "x = dataset[\"data\"].sel(time=slice(\"2020-07-01 12:00\", \"2020-07-01 12:55\")).isel(x=slice(128, 256), y=slice(128, 256)).to_numpy()\n",
    "y = dataset[\"data\"].sel(time=slice(\"2020-07-01 13:00\", \"2020-07-01 14:55\")).isel(x=slice(160, 224), y=slice(160, 224)).to_numpy()\n",
    "p = model(torch.from_numpy(x.astype(float32)).unsqueeze(dim=0)).detach().numpy()[0]\n",
    "\n",
    "fig, (ax1, ax2, ax3, ax4, ax5) = plt.subplots(5, 12, figsize=(20,8))\n",
    "\n",
    "# plot the twelve 128x128 input images\n",
    "for i, img in enumerate(x):\n",
    "    ax1[i].imshow(img, cmap='viridis')\n",
    "    ax1[i].get_xaxis().set_visible(False)\n",
    "    ax1[i].get_yaxis().set_visible(False)\n",
    "\n",
    "# plot twelve 64x64 true output images\n",
    "for i, img in enumerate(y[:12]):\n",
    "    ax2[i].imshow(img, cmap='viridis')\n",
    "    ax2[i].get_xaxis().set_visible(False)\n",
    "    ax2[i].get_yaxis().set_visible(False)\n",
    "\n",
    "# plot twelve more 64x64 true output images\n",
    "for i, img in enumerate(y[12:]):\n",
    "    ax3[i].imshow(img, cmap='viridis')\n",
    "    ax3[i].get_xaxis().set_visible(False)\n",
    "    ax3[i].get_yaxis().set_visible(False)\n",
    "\n",
    "# plot the twelve 64x64 predicted output images\n",
    "for i, img in enumerate(p[:12]):\n",
    "    ax4[i].imshow(img, cmap='viridis')\n",
    "    ax4[i].get_xaxis().set_visible(False)\n",
    "    ax4[i].get_yaxis().set_visible(False)\n",
    "\n",
    "# plot twelve more 64x64 output images\n",
    "for i, img in enumerate(p[12:]):\n",
    "    ax5[i].imshow(img, cmap='viridis')\n",
    "    ax5[i].get_xaxis().set_visible(False)\n",
    "    ax5[i].get_yaxis().set_visible(False)\n",
    "\n",
    "fig.tight_layout()\n",
    "fig.subplots_adjust(wspace=0, hspace=0)"
   ]
  },
  {
   "cell_type": "markdown",
   "id": "67282866",
   "metadata": {},
   "source": [
    "### Saving the model\n",
    "\n",
    "Having trained the model, it can now be saved in the `submission` folder so that it may be evaluated on [DOXA](https://climatehack.ai/compete)."
   ]
  },
  {
   "cell_type": "code",
   "execution_count": null,
   "id": "18e223f1",
   "metadata": {},
   "outputs": [],
   "source": [
    "torch.save(model.state_dict(), 'submission/model.pt')"
   ]
  },
  {
   "cell_type": "markdown",
   "id": "1254c4df",
   "metadata": {},
   "source": [
    "## Submitting your model to DOXA\n",
    "\n",
    "Well done -- you made it to the end!\n",
    "\n",
    "You are now ready to submit your model to DOXA!\n",
    "\n",
    "If you are not already logged in, run the following command:\n",
    "\n",
    "```bash\n",
    "$ python doxa_cli.py user login\n",
    "```\n",
    "\n",
    "Finally, to submit your model, upload the entire `submission` folder into which your model was saved using the following command:\n",
    "\n",
    "```bash\n",
    "$ python doxa_cli.py agent upload climatehack ./submission\n",
    "```"
   ]
  }
 ],
 "metadata": {
  "colab": {
   "collapsed_sections": [],
   "name": "Copy of Copy of load_and_plot_HRV_UK_Zarr_from_GCS.ipynb",
   "provenance": []
  },
  "interpreter": {
   "hash": "6f774df9e68be78be8fedc92c8cad2f0688a777ad163558f0717eecbd1f23d05"
  },
  "kernelspec": {
   "display_name": "Python 3 (ipykernel)",
   "language": "python",
   "name": "python3"
  },
  "language_info": {
   "codemirror_mode": {
    "name": "ipython",
    "version": 3
   },
   "file_extension": ".py",
   "mimetype": "text/x-python",
   "name": "python",
   "nbconvert_exporter": "python",
   "pygments_lexer": "ipython3",
   "version": "3.9.6"
  }
 },
 "nbformat": 4,
 "nbformat_minor": 5
}
