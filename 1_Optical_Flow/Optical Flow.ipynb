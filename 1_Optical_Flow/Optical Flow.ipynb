{
 "cells": [
  {
   "cell_type": "markdown",
   "id": "3907428b-5edb-472b-a29b-f7facb915cfb",
   "metadata": {
    "id": "3907428b-5edb-472b-a29b-f7facb915cfb"
   },
   "source": [
    "# 1. Optical Flow\n",
    "\n",
    "![optical flow](https://developer-blogs.nvidia.com/wp-content/uploads/2019/02/Football-768x216.png)\n",
    "\n",
    "For the first \"Climate Hack\" sample solution let's have a look at the **optical flow** method that seems to do do surprisingly well in forecasting future images (especially, when combined with other methods).\n",
    "\n",
    "The first part of the following notebook will cover the rough basic principles of the optical flow that might be useful for the further development of the system. The second part, will demonstrate how such algorithm could be implemented for our task.\n",
    "\n",
    "## Theory\n",
    "\n",
    "Optical flow is the patten of motion of objects between two consecutive frames due to movement of the object or camera. Mathematically it is a vector  field that shows the displacement vectors of pixels (points) between the frames.\n",
    "\n",
    "As one can imagine, it is a computationally intense algorithm, therefore, it works on several assumptions:\n",
    "\n",
    "- The background lighting intensity is not changing\n",
    "- Near pixels have similar motion\n",
    "\n",
    "We are not going to cover the underlying mathematical principles, as multiple Python libraries already come with functions that calculate optical flow for you.\n",
    "\n",
    "In the following bit, we will see how such optical system can be implemented for our satellite imagery problem.\n",
    "\n",
    "## Implementation\n",
    "\n",
    "#### Importing modules"
   ]
  },
  {
   "cell_type": "code",
   "execution_count": null,
   "id": "ccebc6d1",
   "metadata": {},
   "outputs": [],
   "source": [
    "import matplotlib.pyplot as plt\n",
    "import xarray as xr\n",
    "from numpy import float32\n",
    "from torch.utils.data import DataLoader\n",
    "from dataset import ClimateHackDataset\n",
    "import cv2\n",
    "import numpy as np\n",
    "import pandas as pd\n",
    "\n",
    "plt.rcParams[\"figure.figsize\"] = (20, 12)"
   ]
  },
  {
   "cell_type": "markdown",
   "id": "a94f0685",
   "metadata": {},
   "source": [
    "#### Reading data\n",
    "\n",
    "As this tutorial is focused on developing optical flow system, we are going to use the same exact dataset loader as in the sample submission folder. In contrast to the initial file, we are going to use locally saved sample dataset (```data.npz```) just to vary things a bit."
   ]
  },
  {
   "cell_type": "code",
   "execution_count": null,
   "id": "63554327",
   "metadata": {},
   "outputs": [],
   "source": [
    "BATCH_SIZE = 1\n",
    "EPOCHS = 35\n",
    "\n",
    "#Define path\n",
    "ch_dataset = ClimateHackDataset(____, crops_per_slice=1)\n",
    "ch_dataloader = DataLoader(ch_dataset, batch_size=BATCH_SIZE, pin_memory=True)\n",
    "\n",
    "#Feature images\n",
    "features = []\n",
    "#Target images\n",
    "targets = []\n",
    "\n",
    "for batch_coordinates, batch_features, batch_targets in ch_dataloader:\n",
    "    ____.append(____)\n",
    "    ____.append(____)"
   ]
  },
  {
   "cell_type": "markdown",
   "id": "95767976",
   "metadata": {},
   "source": [
    "### Computing optical flow\n",
    "\n",
    "For computing optical flow (and then predicting future images), we are going to use ```calcOpticalFlowFarneback``` function that is specifically created for dense optical flow computation. In short, we are passing a batch of *'historical'* images through the algorithm to calculated the weighted mean of the generated flow fields that then improves our future prediction.\n",
    "\n",
    "For starters, we are going to compute and plot the optical flow for the sample batch of images."
   ]
  },
  {
   "cell_type": "code",
   "execution_count": null,
   "id": "83422311",
   "metadata": {},
   "outputs": [],
   "source": [
    "#Sample batch\n",
    "img = ____\n",
    "\n",
    "#Defining the number of previous images\n",
    "NUM_PREVIOUS_IMAGES = ____\n",
    "\n",
    "#Number of images for prediction\n",
    "NUM_PREDICTION_IMAGES = ____\n",
    "\n",
    "#Plotting sample image in grayscale\n",
    "plt.imshow(img[0], cmap = 'gray')"
   ]
  },
  {
   "cell_type": "code",
   "execution_count": null,
   "id": "5061c250",
   "metadata": {},
   "outputs": [],
   "source": [
    "# This is our 'main' function for computing optical flow\n",
    "def compute_flows(**kwargs):\n",
    "    flows = []\n",
    "    for i in range(NUM_PREVIOUS_IMAGES):\n",
    "        flow = cv2.calcOpticalFlowFarneback(prev=img[i-1], next=img[i], flow=None, **kwargs)\n",
    "        flows.append(flow)\n",
    "    return np.stack(flows).astype(np.float32)\n",
    "\n",
    "# Function for averaging generated flows\n",
    "def weighted_average(flows):\n",
    "    return np.average(flows, axis=0, weights=range(1, NUM_PREVIOUS_IMAGES+1)).astype(np.float32)"
   ]
  },
  {
   "cell_type": "markdown",
   "id": "c2c85ee9",
   "metadata": {},
   "source": [
    "After defining our optical flow functions, let's calculate optical flow for our batch of sample images. For the starting configuration, we are going to use default parameter values (feel free to change them)."
   ]
  },
  {
   "cell_type": "code",
   "execution_count": null,
   "id": "9b7b43c5",
   "metadata": {},
   "outputs": [],
   "source": [
    "flows = compute_flows(\n",
    "    pyr_scale=0.5, levels=3, winsize=15, \n",
    "    iterations=10, poly_n=5, poly_sigma=1.2, \n",
    "    flags=cv2.OPTFLOW_FARNEBACK_GAUSSIAN)\n",
    "\n",
    "flows = ____"
   ]
  },
  {
   "cell_type": "markdown",
   "id": "1eb335c2",
   "metadata": {},
   "source": [
    "Now, let's visualize the optical flow we have just computed. For more in-depth visualization, we are going to use HSV color representation."
   ]
  },
  {
   "cell_type": "code",
   "execution_count": null,
   "id": "3b2a9b79",
   "metadata": {},
   "outputs": [],
   "source": [
    "magnitude, angle = cv2.cartToPolar(flows[..., 0], flows[..., 1])\n",
    "\n",
    "#Creating placefolder for our image\n",
    "hsv_shape = img[0].shape + (3,)\n",
    "hsv = np.zeros(shape=hsv_shape, dtype=np.uint8) \n",
    "\n",
    "#Controlling hue according to angle\n",
    "hsv[..., 0] = angle * 180 / np.pi / 2\n",
    "\n",
    "# Setting saturation to maximum \n",
    "hsv[..., 1] = 255\n",
    "\n",
    "# Setting magnitude accoring to the optical flow value (normalized)\n",
    "hsv[..., 2] = cv2.normalize(magnitude, None, 0, 255, cv2.NORM_MINMAX)\n",
    "    \n",
    "# Converts HSV to RGB (BGR) color representation \n",
    "rgb = cv2.cvtColor(hsv, cv2.COLOR_HSV2BGR)\n",
    "    \n",
    "fig, axes = plt.subplots(figsize=(20, 10), ncols=3)\n",
    "axes[0].set_title('Optical flow field')\n",
    "axes[0].imshow(rgb)\n",
    "axes[1].set_title('First image')\n",
    "axes[1].imshow(img[0])\n",
    "axes[2].set_title('Last image')\n",
    "axes[2].imshow(img[NUM_PREVIOUS_IMAGES-1])"
   ]
  },
  {
   "cell_type": "markdown",
   "id": "45e017e9",
   "metadata": {},
   "source": [
    "### Predicting images\n",
    "\n",
    "The average optical flow we have just calculated then can be used to predict further images simply warping around images in time. In simple terms, optical flow demonstrates the movement of pixels between consecutive frames, therefore, we can follow the same movement and directions to generate new images."
   ]
  },
  {
   "cell_type": "code",
   "execution_count": null,
   "id": "789b3c49",
   "metadata": {},
   "outputs": [],
   "source": [
    "#Function for warming image in the flow direction\n",
    "def remap_image(image: np.ndarray, flow: np.ndarray) -> np.ndarray:\n",
    "\n",
    "    height, width = flow.shape[:2]\n",
    "    remap = -flow.copy()\n",
    "    remap[..., 0] += np.arange(width)\n",
    "    remap[..., 1] += np.arange(height)[:, np.newaxis]\n",
    "    remapped_image = cv2.remap(src=image, map1=remap, map2=None, interpolation=cv2.INTER_LINEAR, borderMode=cv2.BORDER_REPLICATE)\n",
    "    \n",
    "    # Remember that the output has to be 64x64\n",
    "    return cv2.resize(remapped_image, (64, 64))"
   ]
  },
  {
   "cell_type": "code",
   "execution_count": null,
   "id": "bbc5bf43",
   "metadata": {},
   "outputs": [],
   "source": [
    "# Generating new images\n",
    "start_image = ____\n",
    "\n",
    "# Array for storing output\n",
    "output = []\n",
    "\n",
    "for i in range(NUM_PREDICTION_IMAGES):\n",
    "    remapped_image = ____\n",
    "    ____.append(____)"
   ]
  },
  {
   "cell_type": "markdown",
   "id": "da3e397d",
   "metadata": {},
   "source": [
    "Now let's plot some predictions and real images."
   ]
  },
  {
   "cell_type": "code",
   "execution_count": null,
   "id": "33ad1f99",
   "metadata": {},
   "outputs": [],
   "source": [
    "# Extracting target images for the first batch\n",
    "y = batch_targets[0].numpy()\n",
    "\n",
    "fig, (ax1, ax2) = plt.subplots(2, 12, figsize=(20,3))\n",
    "\n",
    "# plot twelve 64x64 predicted images\n",
    "for i, img in enumerate(output[:12]):\n",
    "    ax1[i].imshow(img, cmap='viridis')\n",
    "    ax1[i].get_xaxis().set_visible(False)\n",
    "    ax1[i].get_yaxis().set_visible(False)\n",
    "\n",
    "# plot twelve 64x64 true output images\n",
    "for i, img in enumerate(y[:12]):\n",
    "    ax2[i].imshow(img, cmap='viridis')\n",
    "    ax2[i].get_xaxis().set_visible(False)\n",
    "    ax2[i].get_yaxis().set_visible(False)"
   ]
  },
  {
   "cell_type": "markdown",
   "id": "1de602a9",
   "metadata": {},
   "source": [
    "### Deploying system\n",
    "\n",
    "The purpose of this notebook was to demonstrate that simple optical flow model can provide quite accurate predictions. To actually deploy such system, you would need to transfer all functions in a ```model.py``` file that would then be called by evaluation script. As a result, you would need to changed the initial ```model.py``` and ```evaluate.py``` scripts.\n",
    "\n",
    "***Depending on the time you are reading this source, such scripts may already be available to use***"
   ]
  }
 ],
 "metadata": {
  "colab": {
   "collapsed_sections": [],
   "name": "Copy of Copy of load_and_plot_HRV_UK_Zarr_from_GCS.ipynb",
   "provenance": []
  },
  "interpreter": {
   "hash": "6f774df9e68be78be8fedc92c8cad2f0688a777ad163558f0717eecbd1f23d05"
  },
  "kernelspec": {
   "display_name": "Python 3 (ipykernel)",
   "language": "python",
   "name": "python3"
  },
  "language_info": {
   "codemirror_mode": {
    "name": "ipython",
    "version": 3
   },
   "file_extension": ".py",
   "mimetype": "text/x-python",
   "name": "python",
   "nbconvert_exporter": "python",
   "pygments_lexer": "ipython3",
   "version": "3.9.6"
  }
 },
 "nbformat": 4,
 "nbformat_minor": 5
}
